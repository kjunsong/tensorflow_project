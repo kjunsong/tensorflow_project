{
 "cells": [
  {
   "cell_type": "code",
   "execution_count": 3,
   "metadata": {
    "collapsed": true
   },
   "outputs": [],
   "source": [
    "import pandas as pd\n",
    "import numpy as np"
   ]
  },
  {
   "cell_type": "code",
   "execution_count": 17,
   "metadata": {
    "collapsed": true
   },
   "outputs": [],
   "source": [
    "dates = pd.date_range('20170814', periods = 6)\n",
    "df = pd.DataFrame(np.arange(24).reshape((6, 4)), index = dates, columns = ['A', 'B', 'C', 'D'])"
   ]
  },
  {
   "cell_type": "code",
   "execution_count": 18,
   "metadata": {},
   "outputs": [
    {
     "name": "stdout",
     "output_type": "stream",
     "text": [
      "             A   B   C   D\n",
      "2017-08-14   0   1   2   3\n",
      "2017-08-15   4   5   6   7\n",
      "2017-08-16   8   9  10  11\n",
      "2017-08-17  12  13  14  15\n",
      "2017-08-18  16  17  18  19\n",
      "2017-08-19  20  21  22  23\n"
     ]
    }
   ],
   "source": [
    "print(df)"
   ]
  },
  {
   "cell_type": "code",
   "execution_count": 19,
   "metadata": {},
   "outputs": [
    {
     "name": "stdout",
     "output_type": "stream",
     "text": [
      "             A    B     C   D\n",
      "2017-08-14   0    1     2   3\n",
      "2017-08-15   4  222     6   7\n",
      "2017-08-16   8    9  1111  11\n",
      "2017-08-17  12   13    14  15\n",
      "2017-08-18  16   17    18  19\n",
      "2017-08-19  20   21    22  23\n"
     ]
    }
   ],
   "source": [
    "df.iloc[2, 2] = 1111\n",
    "df.loc['20170815','B'] = 222  #以标签的形式\n",
    "print(df)"
   ]
  },
  {
   "cell_type": "code",
   "execution_count": 20,
   "metadata": {},
   "outputs": [
    {
     "name": "stdout",
     "output_type": "stream",
     "text": [
      "            A    B     C   D\n",
      "2017-08-14  0    1     2   3\n",
      "2017-08-15  4  222     6   7\n",
      "2017-08-16  0    9  1111  11\n",
      "2017-08-17  0   13    14  15\n",
      "2017-08-18  0   17    18  19\n",
      "2017-08-19  0   21    22  23\n"
     ]
    }
   ],
   "source": [
    "df.A[df.A > 4] = 0    #对A这一列进行处理\n",
    "print(df)"
   ]
  },
  {
   "cell_type": "code",
   "execution_count": 24,
   "metadata": {},
   "outputs": [],
   "source": [
    "df[df.A > 4] = 0   "
   ]
  },
  {
   "cell_type": "code",
   "execution_count": 25,
   "metadata": {},
   "outputs": [
    {
     "name": "stdout",
     "output_type": "stream",
     "text": [
      "            A    B     C   D   F\n",
      "2017-08-14  0    1     2   3 NaN\n",
      "2017-08-15  4  222     6   7 NaN\n",
      "2017-08-16  0    9  1111  11 NaN\n",
      "2017-08-17  0   13    14  15 NaN\n",
      "2017-08-18  0   17    18  19 NaN\n",
      "2017-08-19  0   21    22  23 NaN\n"
     ]
    }
   ],
   "source": [
    "df['F'] = np.nan  #天假 F列进行操作\n",
    "print(df)"
   ]
  },
  {
   "cell_type": "code",
   "execution_count": 26,
   "metadata": {},
   "outputs": [
    {
     "name": "stdout",
     "output_type": "stream",
     "text": [
      "            A    B     C   D   F  E\n",
      "2017-08-14  0    1     2   3 NaN  1\n",
      "2017-08-15  4  222     6   7 NaN  2\n",
      "2017-08-16  0    9  1111  11 NaN  3\n",
      "2017-08-17  0   13    14  15 NaN  4\n",
      "2017-08-18  0   17    18  19 NaN  5\n",
      "2017-08-19  0   21    22  23 NaN  6\n"
     ]
    }
   ],
   "source": [
    "df['E'] = pd.Series([1,2,3,4,5,6], index=pd.date_range('20170814', periods = 6))  #后面操作是为了列能对应上\n",
    "print(df)"
   ]
  },
  {
   "cell_type": "code",
   "execution_count": null,
   "metadata": {
    "collapsed": true
   },
   "outputs": [],
   "source": []
  }
 ],
 "metadata": {
  "kernelspec": {
   "display_name": "Python 3",
   "language": "python",
   "name": "python3"
  },
  "language_info": {
   "codemirror_mode": {
    "name": "ipython",
    "version": 3
   },
   "file_extension": ".py",
   "mimetype": "text/x-python",
   "name": "python",
   "nbconvert_exporter": "python",
   "pygments_lexer": "ipython3",
   "version": "3.6.1"
  }
 },
 "nbformat": 4,
 "nbformat_minor": 2
}

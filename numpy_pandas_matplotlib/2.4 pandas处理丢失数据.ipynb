{
 "cells": [
  {
   "cell_type": "code",
   "execution_count": 9,
   "metadata": {},
   "outputs": [
    {
     "name": "stdout",
     "output_type": "stream",
     "text": [
      "             A     B     C   D\n",
      "2017-08-15   0   NaN   2.0   3\n",
      "2017-08-16   4   5.0   NaN   7\n",
      "2017-08-17   8   9.0  10.0  11\n",
      "2017-08-18  12  13.0  14.0  15\n",
      "2017-08-19  16  17.0  18.0  19\n",
      "2017-08-20  20  21.0  22.0  23\n"
     ]
    }
   ],
   "source": [
    "import pandas as pd\n",
    "import numpy as np\n",
    "dates = pd.date_range('20170815',periods = 6)\n",
    "df = pd.DataFrame(np.arange(24).reshape((6, 4)), index = dates, columns = ['A','B','C','D'])\n",
    "df.iloc[0,1] = np.nan  #假设此处数据丢失\n",
    "df.iloc[1,2] = np.nan\n",
    "print(df)"
   ]
  },
  {
   "cell_type": "code",
   "execution_count": 12,
   "metadata": {},
   "outputs": [
    {
     "name": "stdout",
     "output_type": "stream",
     "text": [
      "             A   D\n",
      "2017-08-15   0   3\n",
      "2017-08-16   4   7\n",
      "2017-08-17   8  11\n",
      "2017-08-18  12  15\n",
      "2017-08-19  16  19\n",
      "2017-08-20  20  23\n"
     ]
    }
   ],
   "source": [
    "print(df.dropna(axis = 1, how  ='any')) #how={'any','all'} all:表示这一行或者一列都是0"
   ]
  },
  {
   "cell_type": "code",
   "execution_count": 14,
   "metadata": {},
   "outputs": [
    {
     "name": "stdout",
     "output_type": "stream",
     "text": [
      "             A     B     C   D\n",
      "2017-08-15   0   0.0   2.0   3\n",
      "2017-08-16   4   5.0   0.0   7\n",
      "2017-08-17   8   9.0  10.0  11\n",
      "2017-08-18  12  13.0  14.0  15\n",
      "2017-08-19  16  17.0  18.0  19\n",
      "2017-08-20  20  21.0  22.0  23\n"
     ]
    }
   ],
   "source": [
    "print(df.fillna(value = 0))#填充为0"
   ]
  },
  {
   "cell_type": "code",
   "execution_count": 16,
   "metadata": {},
   "outputs": [
    {
     "name": "stdout",
     "output_type": "stream",
     "text": [
      "                A      B      C      D\n",
      "2017-08-15  False   True  False  False\n",
      "2017-08-16  False  False   True  False\n",
      "2017-08-17  False  False  False  False\n",
      "2017-08-18  False  False  False  False\n",
      "2017-08-19  False  False  False  False\n",
      "2017-08-20  False  False  False  False\n"
     ]
    }
   ],
   "source": [
    "print(df.isnull())  #查看是否缺失数据 返回Rrue"
   ]
  },
  {
   "cell_type": "code",
   "execution_count": 18,
   "metadata": {},
   "outputs": [
    {
     "name": "stdout",
     "output_type": "stream",
     "text": [
      "True\n"
     ]
    }
   ],
   "source": [
    "#当表格非常大时\n",
    "print(np.any(df.isnull()) == True) #确实有丢失返回True"
   ]
  },
  {
   "cell_type": "code",
   "execution_count": null,
   "metadata": {
    "collapsed": true
   },
   "outputs": [],
   "source": []
  }
 ],
 "metadata": {
  "kernelspec": {
   "display_name": "Python 3",
   "language": "python",
   "name": "python3"
  },
  "language_info": {
   "codemirror_mode": {
    "name": "ipython",
    "version": 3
   },
   "file_extension": ".py",
   "mimetype": "text/x-python",
   "name": "python",
   "nbconvert_exporter": "python",
   "pygments_lexer": "ipython3",
   "version": "3.6.1"
  }
 },
 "nbformat": 4,
 "nbformat_minor": 2
}
